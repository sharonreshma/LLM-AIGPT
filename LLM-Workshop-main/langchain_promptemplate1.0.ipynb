{
 "cells": [
  {
   "cell_type": "code",
   "execution_count": 3,
   "id": "89a05bc6-6c6c-4738-9c34-4b2009e6d4a6",
   "metadata": {},
   "outputs": [],
   "source": [
    "import warnings\n",
    "warnings.filterwarnings(\"ignore\")\n",
    "import openai\n",
    "import os\n",
    "from dotenv import load_dotenv,find_dotenv\n",
    "from langchain.chat_models import ChatOpenAI\n",
    "from langchain.prompts import PromptTemplate"
   ]
  },
  {
   "cell_type": "code",
   "execution_count": 2,
   "id": "2883fdfd-e3c9-4b6c-9c9b-fe7ba82c181e",
   "metadata": {},
   "outputs": [
    {
     "data": {
      "text/plain": [
       "True"
      ]
     },
     "execution_count": 2,
     "metadata": {},
     "output_type": "execute_result"
    }
   ],
   "source": [
    "load_dotenv(find_dotenv(),override=True)"
   ]
  },
  {
   "cell_type": "code",
   "execution_count": 4,
   "id": "dea3eb16-4c7c-4adb-9ace-40a0e7b32d52",
   "metadata": {},
   "outputs": [],
   "source": [
    "openai.api_key=os.environ[\"OPENAI_API_KEY\"]"
   ]
  },
  {
   "cell_type": "code",
   "execution_count": 5,
   "id": "991f6661-2b2a-4820-94e3-1a97448cd2b7",
   "metadata": {},
   "outputs": [],
   "source": [
    "chat_llm=ChatOpenAI(model=\"gpt-4\")"
   ]
  },
  {
   "cell_type": "code",
   "execution_count": 6,
   "id": "fc8f9d32-42db-4c2f-ac13-dcefb51f69ee",
   "metadata": {},
   "outputs": [],
   "source": [
    "template_1=\"explain what is {input} in {language}\""
   ]
  },
  {
   "cell_type": "code",
   "execution_count": 7,
   "id": "e1efdf0a-0ba6-4d54-b9a1-878af56d1ada",
   "metadata": {},
   "outputs": [],
   "source": [
    "prompt_1=PromptTemplate(input_variables=[\"input\",\"language\"],template=template_1)"
   ]
  },
  {
   "cell_type": "code",
   "execution_count": 8,
   "id": "dd54ac0d-91cb-4d3a-9482-89b6310b62fc",
   "metadata": {},
   "outputs": [
    {
     "data": {
      "text/plain": [
       "PromptTemplate(input_variables=['input', 'language'], template='explain what is {input} in {language}')"
      ]
     },
     "execution_count": 8,
     "metadata": {},
     "output_type": "execute_result"
    }
   ],
   "source": [
    "prompt_1"
   ]
  },
  {
   "cell_type": "code",
   "execution_count": 9,
   "id": "bc9e1197-2441-4352-a935-04a28c3ca6fa",
   "metadata": {},
   "outputs": [],
   "source": [
    "output=chat_llm.invoke(prompt_1.format(input=\"large langauge model\",language=\"hindi\"))"
   ]
  },
  {
   "cell_type": "code",
   "execution_count": 10,
   "id": "6ec14628-669d-448b-8941-af44556e4ffa",
   "metadata": {},
   "outputs": [
    {
     "data": {
      "text/plain": [
       "'बड़े भाषा मॉडल एक प्रकार का प्रशिक्षित मॉडल है जिसका उपयोग टेक्स्ट उत्पन्न करने में किया जाता है। यह मशीन लर्निंग के क्षेत्र में एक बड़ा उपलब्धि है और यह एक बड़ी मात्रा में डेटा पर आधारित होता है। इस मॉडल का उपयोग संवाद, अनुवाद, सारांश, और अन्य भाषा संबंधी कार्यों के लिए किया जा सकता है। यह मानव भाषा को समझने और उत्पन्न करने में सक्षम होता है। यह गबनाया गया डेटा, जैसे कि पुस्तकें, लेख, वेबसाइट्स आदि पर आधारित होता है।'"
      ]
     },
     "execution_count": 10,
     "metadata": {},
     "output_type": "execute_result"
    }
   ],
   "source": [
    "output.content"
   ]
  },
  {
   "cell_type": "markdown",
   "id": "5d0c6933-9b25-4bbc-ad3a-fdb829bb9b55",
   "metadata": {},
   "source": [
    "### chatprompt template"
   ]
  },
  {
   "cell_type": "code",
   "execution_count": 12,
   "id": "48311da2-8621-4eb9-8103-a5bee5f32fa0",
   "metadata": {},
   "outputs": [],
   "source": [
    "from langchain.prompts import (\n",
    "ChatPromptTemplate,\n",
    "PromptTemplate,\n",
    "SystemMessagePromptTemplate,\n",
    "AIMessagePromptTemplate,\n",
    "HumanMessagePromptTemplate)"
   ]
  },
  {
   "cell_type": "code",
   "execution_count": 13,
   "id": "f2bdb207-af4e-4c02-bf56-4a3213f7877a",
   "metadata": {},
   "outputs": [],
   "source": [
    "from langchain.schema import AIMessage,HumanMessage,SystemMessage"
   ]
  },
  {
   "cell_type": "code",
   "execution_count": 15,
   "id": "edeeb788-553d-427b-a712-01bdea49be3e",
   "metadata": {},
   "outputs": [],
   "source": [
    "system_temp=\"you are a healthcare assistant and specializes in {medical_area} suggest some medicine\""
   ]
  },
  {
   "cell_type": "code",
   "execution_count": 16,
   "id": "1587c76e-02c3-436b-9661-28c9feec8b68",
   "metadata": {},
   "outputs": [],
   "source": [
    "system_mess_prompt=SystemMessagePromptTemplate.from_template(system_temp)"
   ]
  },
  {
   "cell_type": "code",
   "execution_count": 17,
   "id": "d16401e0-b162-41a7-9e28-5dac46cb9026",
   "metadata": {},
   "outputs": [],
   "source": [
    "human_template=\"{problem}\""
   ]
  },
  {
   "cell_type": "code",
   "execution_count": 18,
   "id": "3993c048-a6f6-4803-a989-146097e8b564",
   "metadata": {},
   "outputs": [],
   "source": [
    "human_msg_prompt=HumanMessagePromptTemplate.from_template(human_template)"
   ]
  },
  {
   "cell_type": "code",
   "execution_count": 19,
   "id": "89c13ddc-0109-4a5b-8994-765a76d328ec",
   "metadata": {},
   "outputs": [
    {
     "data": {
      "text/plain": [
       "['problem']"
      ]
     },
     "execution_count": 19,
     "metadata": {},
     "output_type": "execute_result"
    }
   ],
   "source": [
    "human_msg_prompt.input_variables"
   ]
  },
  {
   "cell_type": "code",
   "execution_count": 20,
   "id": "5dd2a788-5b9e-446d-9040-5ff767406664",
   "metadata": {},
   "outputs": [],
   "source": [
    "chat_prompt=ChatPromptTemplate.from_messages([system_mess_prompt,human_msg_prompt])"
   ]
  },
  {
   "cell_type": "code",
   "execution_count": 21,
   "id": "09339cf0-fa8b-4a50-95e3-32fcfc556b90",
   "metadata": {},
   "outputs": [
    {
     "data": {
      "text/plain": [
       "['medical_area', 'problem']"
      ]
     },
     "execution_count": 21,
     "metadata": {},
     "output_type": "execute_result"
    }
   ],
   "source": [
    "chat_prompt.input_variables"
   ]
  },
  {
   "cell_type": "code",
   "execution_count": 22,
   "id": "a65aca1b-079f-4ac6-bb96-d9afda1a44d9",
   "metadata": {},
   "outputs": [],
   "source": [
    "final_prompt=chat_prompt.format_prompt(medical_area=\"cardiologist\",problem=\"heart pain\")"
   ]
  },
  {
   "cell_type": "code",
   "execution_count": 23,
   "id": "eb7727a9-f8e5-424d-9218-276d02f7b691",
   "metadata": {},
   "outputs": [],
   "source": [
    "result=chat_llm.invoke(final_prompt)"
   ]
  },
  {
   "cell_type": "code",
   "execution_count": 25,
   "id": "10cca32a-ff1f-4b15-9172-ce93a048a45b",
   "metadata": {},
   "outputs": [
    {
     "data": {
      "text/plain": [
       "\"As a healthcare assistant specializing in cardiology, I would recommend you to seek immediate medical attention if you're experiencing heart pain. The symptoms could indicate a serious condition like a heart attack. It's crucial to get a proper diagnosis from a healthcare professional. They may advise tests like an Electrocardiogram (ECG), Blood tests, Chest X-ray, Coronary angiogram, Cardiac CT or MRI. \\n\\nHowever, in the meantime, try to stay calm and rest. Avoid any strenuous activities. If the pain is severe or lasts for more than a few minutes, call for emergency medical help. Please remember that this advice does not replace a visit to a healthcare professional.\""
      ]
     },
     "execution_count": 25,
     "metadata": {},
     "output_type": "execute_result"
    }
   ],
   "source": [
    "result.content"
   ]
  },
  {
   "cell_type": "markdown",
   "id": "3f58a3b6-dfe5-4f04-8ae1-bd81bcd68cd1",
   "metadata": {},
   "source": [
    "## date time parser "
   ]
  },
  {
   "cell_type": "code",
   "execution_count": 27,
   "id": "6f38385d-3541-4a8c-8d9c-47b19c929ad1",
   "metadata": {},
   "outputs": [],
   "source": [
    "from langchain.output_parsers import DatetimeOutputParser"
   ]
  },
  {
   "cell_type": "code",
   "execution_count": 28,
   "id": "9d8690ec-0066-416e-9a8c-e314025d43cd",
   "metadata": {},
   "outputs": [],
   "source": [
    "output_parser=DatetimeOutputParser()"
   ]
  },
  {
   "cell_type": "code",
   "execution_count": 31,
   "id": "63466988-4829-47bc-aeb6-5795eec0f355",
   "metadata": {},
   "outputs": [
    {
     "data": {
      "text/plain": [
       "\"Write a datetime string that matches the following pattern: '%Y-%m-%dT%H:%M:%S.%fZ'.\\n\\nExamples: 0872-01-14T08:48:57.602554Z, 2012-09-16T10:32:39.524010Z, 0961-11-26T21:55:18.337509Z\\n\\nReturn ONLY this string, no other words!\""
      ]
     },
     "execution_count": 31,
     "metadata": {},
     "output_type": "execute_result"
    }
   ],
   "source": [
    "output_parser.get_format_instructions()"
   ]
  },
  {
   "cell_type": "code",
   "execution_count": 35,
   "id": "af28d206-305d-4d52-84f1-292e21278e48",
   "metadata": {},
   "outputs": [],
   "source": [
    "templat_text=\"{request}\\n{format_instructions}\"\n",
    "human_promt=HumanMessagePromptTemplate.from_template(templat_text)"
   ]
  },
  {
   "cell_type": "code",
   "execution_count": 36,
   "id": "dca408a3-1c98-46d4-94c9-41de06a0aad8",
   "metadata": {},
   "outputs": [],
   "source": [
    "chat_prompt=ChatPromptTemplate.from_messages([human_promt])"
   ]
  },
  {
   "cell_type": "code",
   "execution_count": 49,
   "id": "8d73464f-effd-495b-a780-f20642e62bf2",
   "metadata": {},
   "outputs": [],
   "source": [
    "chat_final_prompt=chat_prompt.format_prompt(request=\"what date was the 13th  Amendment ratified in the us?\",\n",
    "                          format_instructions=output_parser.get_format_instructions()).to_messages()"
   ]
  },
  {
   "cell_type": "code",
   "execution_count": 50,
   "id": "b352c6d0-7482-4488-a471-31ef3527771a",
   "metadata": {},
   "outputs": [],
   "source": [
    "result=chat_llm.invoke(chat_final_prompt)"
   ]
  },
  {
   "cell_type": "code",
   "execution_count": 51,
   "id": "ce09022c-4cfb-49bd-b1eb-94f387d13c3f",
   "metadata": {},
   "outputs": [
    {
     "data": {
      "text/plain": [
       "datetime.datetime(1865, 12, 6, 0, 0)"
      ]
     },
     "execution_count": 51,
     "metadata": {},
     "output_type": "execute_result"
    }
   ],
   "source": [
    "output_parser.parse(result.content)"
   ]
  },
  {
   "cell_type": "code",
   "execution_count": null,
   "id": "2fa47069-432f-488e-ae0f-4538a533e44f",
   "metadata": {},
   "outputs": [],
   "source": []
  }
 ],
 "metadata": {
  "kernelspec": {
   "display_name": "Python 3 (ipykernel)",
   "language": "python",
   "name": "python3"
  },
  "language_info": {
   "codemirror_mode": {
    "name": "ipython",
    "version": 3
   },
   "file_extension": ".py",
   "mimetype": "text/x-python",
   "name": "python",
   "nbconvert_exporter": "python",
   "pygments_lexer": "ipython3",
   "version": "3.10.13"
  }
 },
 "nbformat": 4,
 "nbformat_minor": 5
}

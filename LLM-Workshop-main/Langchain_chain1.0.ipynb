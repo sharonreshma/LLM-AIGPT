{
 "cells": [
  {
   "cell_type": "code",
   "execution_count": 18,
   "id": "f667446b-7713-4d41-870e-84cd58401467",
   "metadata": {},
   "outputs": [],
   "source": [
    "import os\n",
    "from dotenv import load_dotenv,find_dotenv\n",
    "import warnings\n",
    "warnings.filterwarnings('ignore')\n",
    "import openai\n",
    "from langchain.chat_models import ChatOpenAI\n",
    "from langchain.chains import LLMChain\n",
    "from langchain.prompts import PromptTemplate"
   ]
  },
  {
   "cell_type": "markdown",
   "id": "a9258042-fd81-40a8-8f56-a65bd80716ab",
   "metadata": {},
   "source": [
    "####  LLMChain"
   ]
  },
  {
   "cell_type": "code",
   "execution_count": 19,
   "id": "03598952-d6b1-405c-b299-34635303364e",
   "metadata": {},
   "outputs": [
    {
     "data": {
      "text/plain": [
       "True"
      ]
     },
     "execution_count": 19,
     "metadata": {},
     "output_type": "execute_result"
    }
   ],
   "source": [
    "load_dotenv(find_dotenv(),override=True)"
   ]
  },
  {
   "cell_type": "code",
   "execution_count": 20,
   "id": "9c074340-b724-44d1-a825-f42e7a78e10a",
   "metadata": {},
   "outputs": [],
   "source": [
    "chat_model = ChatOpenAI(api_key=os.getenv(\"OPENAI_API_KEY\"), model=\"gpt-4\")"
   ]
  },
  {
   "cell_type": "code",
   "execution_count": 21,
   "id": "03b822c2-662e-4491-a0c6-72d9b8869c18",
   "metadata": {},
   "outputs": [],
   "source": [
    "temp_sample=\"\"\" suggest only {count} tourists spots for {place}\"\"\""
   ]
  },
  {
   "cell_type": "code",
   "execution_count": 22,
   "id": "394f01d4-1a4c-4915-a69f-9769779a3ef0",
   "metadata": {},
   "outputs": [],
   "source": [
    "prompt=PromptTemplate(input_variables=[\"count\",\"place\"],template=temp_sample)"
   ]
  },
  {
   "cell_type": "code",
   "execution_count": 23,
   "id": "f7ba1bc0-4b48-4752-b1b8-5bdc1a724bae",
   "metadata": {},
   "outputs": [
    {
     "name": "stdout",
     "output_type": "stream",
     "text": [
      "1. Taj Mahal, Agra: One of the Seven Wonders of the World, the Taj Mahal is a must-visit monument known for its stunning architecture. It is a symbol of love, built by Mughal Emperor Shah Jahan for his wife Mumtaz Mahal.\n",
      "\n",
      "2. Jaipur, Rajasthan: Known as the Pink City, Jaipur is famous for its magnificent forts, palaces and rich heritage. Visit the Amber Fort, Hawa Mahal, and City Palace for a glimpse of royal history.\n",
      "\n",
      "3. Kerala Backwaters: Enjoy the serene beauty of the backwaters with a stay on a traditional houseboat. Kerala is also known for its beautiful beaches, wildlife sanctuaries, and Ayurvedic treatments.\n",
      "\n",
      "4. Varanasi, Uttar Pradesh: One of the oldest continuously inhabited cities in the world, Varanasi is a spiritual hub with numerous temples and the famous Ganges River where pilgrims come to wash away their sins.\n",
      "\n",
      "5. Goa: Known for its beautiful beaches, Portuguese heritage, and vibrant nightlife, Goa is a perfect destination for relaxation and fun. Explore the historic churches, indulge in water sports, and enjoy the local cuisine.\n"
     ]
    }
   ],
   "source": [
    "llmchain = LLMChain(llm=chat_model, prompt=prompt)\n",
    "print(llmchain.run({\"count\":5,\"place\":\"india\"}))"
   ]
  },
  {
   "cell_type": "code",
   "execution_count": 24,
   "id": "ffc83126-cbfb-4763-b78e-7defd44a2b34",
   "metadata": {},
   "outputs": [],
   "source": [
    "input_list = [\n",
    "    {\"count\":2,\"place\":\"delhi\"},\n",
    "    {\"count\":3,\"place\":\"lucknow\"},\n",
    "    {\"count\":4,\"place\":\"varanasi\"},\n",
    "    \n",
    "]"
   ]
  },
  {
   "cell_type": "code",
   "execution_count": 25,
   "id": "03919d2c-f379-43fa-bc32-ccd4d1558bfc",
   "metadata": {},
   "outputs": [
    {
     "data": {
      "text/plain": [
       "LLMResult(generations=[[ChatGeneration(text=\"1. Qutub Minar: This is the second highest brick minaret in the world, standing at an impressive 240 feet. The construction started in 1192 by Qutub-ud-din Aibak and was completed by his successor Iltutmish. It's a UNESCO World Heritage Site, known for its intricate carvings and verses from the Quran.\\n\\n2. Humayun’s Tomb: Humayun’s Tomb is another UNESCO World Heritage Site in Delhi. It is a splendid example of early Mughal architecture. Built in the mid-16th century by Haji Begum, the Persian-born senior wife of Humayun, the second Mughal emperor, this place is worth visiting for its magnificent architecture and the lush gardens.\", generation_info={'finish_reason': 'stop', 'logprobs': None}, message=AIMessage(content=\"1. Qutub Minar: This is the second highest brick minaret in the world, standing at an impressive 240 feet. The construction started in 1192 by Qutub-ud-din Aibak and was completed by his successor Iltutmish. It's a UNESCO World Heritage Site, known for its intricate carvings and verses from the Quran.\\n\\n2. Humayun’s Tomb: Humayun’s Tomb is another UNESCO World Heritage Site in Delhi. It is a splendid example of early Mughal architecture. Built in the mid-16th century by Haji Begum, the Persian-born senior wife of Humayun, the second Mughal emperor, this place is worth visiting for its magnificent architecture and the lush gardens.\"))], [ChatGeneration(text='1. Bara Imambara: Also known as Asfi Mosque, Bara Imambara is an architectural marvel that was built in 1784 by Asaf-ud-Daula, the then Nawab of Lucknow. It is an important place of worship for the Muslims who come here every year to celebrate the religious festival of Muharram.\\n\\n2. Rumi Darwaza: This is an impressive gateway which is roughly 60 feet tall and was constructed in the year 1784 under the patronage of Nawab Asaf-Ud-daula.\\n\\n3. Chota Imambara: Also known as Imambara Hussainabad Mubarak, this monument was built by Muhammad Ali Shah in 1838. It is an imposing monument located in the city of Lucknow.', generation_info={'finish_reason': 'stop', 'logprobs': None}, message=AIMessage(content='1. Bara Imambara: Also known as Asfi Mosque, Bara Imambara is an architectural marvel that was built in 1784 by Asaf-ud-Daula, the then Nawab of Lucknow. It is an important place of worship for the Muslims who come here every year to celebrate the religious festival of Muharram.\\n\\n2. Rumi Darwaza: This is an impressive gateway which is roughly 60 feet tall and was constructed in the year 1784 under the patronage of Nawab Asaf-Ud-daula.\\n\\n3. Chota Imambara: Also known as Imambara Hussainabad Mubarak, this monument was built by Muhammad Ali Shah in 1838. It is an imposing monument located in the city of Lucknow.'))], [ChatGeneration(text=\"1. Kashi Vishwanath Temple: This is one of the most famous Hindu temples and is dedicated to Lord Shiva. It is located on the western bank of the holy river Ganga and is one of the twelve Jyotirlingas, which are considered the holiest of Shiva temples.\\n\\n2. Dashashwamedh Ghat: This is the main and probably the oldest ghat of Varanasi located on the Ganges. It is believed that Lord Brahma created it to welcome Lord Shiva and sacrificed ten horses during the Dasa -Ashwamedha yajna performed here.\\n\\n3. Sarnath: Located just 10 km from Varanasi, Sarnath is the place where Gautama Buddha first taught the Dharma after his enlightenment. It is home to several Buddhist monuments and temples and is a must-visit for anyone interested in Buddhism.\\n\\n4. Manikarnika Ghat: One of the oldest and most sacred Ghats in Varanasi, Manikarnika Ghat is the city's primary site for Hindu cremation rituals. Despite its somewhat somber purpose, the Ghat is a fascinating place to visit due to its unique culture and customs.\", generation_info={'finish_reason': 'stop', 'logprobs': None}, message=AIMessage(content=\"1. Kashi Vishwanath Temple: This is one of the most famous Hindu temples and is dedicated to Lord Shiva. It is located on the western bank of the holy river Ganga and is one of the twelve Jyotirlingas, which are considered the holiest of Shiva temples.\\n\\n2. Dashashwamedh Ghat: This is the main and probably the oldest ghat of Varanasi located on the Ganges. It is believed that Lord Brahma created it to welcome Lord Shiva and sacrificed ten horses during the Dasa -Ashwamedha yajna performed here.\\n\\n3. Sarnath: Located just 10 km from Varanasi, Sarnath is the place where Gautama Buddha first taught the Dharma after his enlightenment. It is home to several Buddhist monuments and temples and is a must-visit for anyone interested in Buddhism.\\n\\n4. Manikarnika Ghat: One of the oldest and most sacred Ghats in Varanasi, Manikarnika Ghat is the city's primary site for Hindu cremation rituals. Despite its somewhat somber purpose, the Ghat is a fascinating place to visit due to its unique culture and customs.\"))]], llm_output={'token_usage': {'completion_tokens': 564, 'prompt_tokens': 49, 'total_tokens': 613}, 'model_name': 'gpt-4'}, run=[RunInfo(run_id=UUID('e1a76be6-c6cc-4005-8a7e-a4a69d0afce6')), RunInfo(run_id=UUID('81661718-d849-41b9-96a8-36336949ec40')), RunInfo(run_id=UUID('8301b942-365b-42f6-bae2-811c5766b7be'))])"
      ]
     },
     "execution_count": 25,
     "metadata": {},
     "output_type": "execute_result"
    }
   ],
   "source": [
    "llmchain.generate(input_list)"
   ]
  },
  {
   "cell_type": "code",
   "execution_count": 26,
   "id": "16bf17a1-e60d-4711-adf7-99c06fbd7142",
   "metadata": {},
   "outputs": [
    {
     "data": {
      "text/plain": [
       "[{'text': '1. The Red Fort: This iconic landmark, built by Emperor Shah Jahan, is an epitome of Mughal architecture. It houses several museums highlighting the history of India.\\n\\n2. Qutub Minar: A UNESCO World Heritage Site, this 73-meter tall tower is the second tallest minar in India. It displays the architectural brilliance of the medieval period.'},\n",
       " {'text': '1. Bara Imambara: This is an important monument in Lucknow that showcases Mughal architecture. The complex includes the large Asfi mosque, the Bhul Bhulaiya (the labyrinth), and a bowli, a step well with running water. \\n\\n2. The Residency: This is a group of buildings that served as the residence for the British Resident General who was a representative in the court of the Nawab. The structure was heavily damaged in the first war of Independence in 1857 and now stands as a symbol of British colonialism in India.\\n\\n3. Rumi Darwaza: This is an impressive gateway which was built under the patronage of Nawab Asaf-Ud-Daula in 1784. It is an example of Awadhi architecture and is often referred to as the Turkish Gate, as it was modeled after the Sublime Porte in Istanbul.'},\n",
       " {'text': \"1. Kashi Vishwanath Temple: This is one of the most famous Hindu temples dedicated to Lord Shiva. It is located in Varanasi, Uttar Pradesh, India, and is a major destination for Hindu devotees.\\n\\n2. Dashashwamedh Ghat: This is the main and probably the oldest ghat of Varanasi located on the Ganges. It is known for its evening Aarti, a spectacular event that takes place every day.\\n\\n3. Sarnath: Located just 10 km from Varanasi, it is the place where Lord Buddha delivered his first sermon after attaining enlightenment. The site houses various Buddhist stupas, monasteries, and museums.\\n\\n4. Manikarnika Ghat: It is one of the holiest among the sacred riverfronts, alongside the river Ganga. It is believed that a dead human's soul finds salvation (moksha), when cremated here.\"}]"
      ]
     },
     "execution_count": 26,
     "metadata": {},
     "output_type": "execute_result"
    }
   ],
   "source": [
    "llmchain.apply(input_list)"
   ]
  },
  {
   "cell_type": "code",
   "execution_count": 27,
   "id": "9a2300b2-2faa-41d0-98df-0aeb72a2ce40",
   "metadata": {},
   "outputs": [
    {
     "data": {
      "text/plain": [
       "'1. Bara Imambara: This is an architectural marvel in Lucknow, built by Asaf-ud-Daula, the Nawab of Lucknow, in 1784. Known for its incredible maze called Bhul Bhulaiya, it offers a panoramic view of the city from the top. \\n\\n2. Rumi Darwaza: Also known as Turkish Gate, it was built in the year 1784 by Nawab Asaf-ud-daula. The 60 feet tall gate is one of the finest examples of Awadhi architecture and is now an iconic symbol of Lucknow.\\n\\n3. The Residency: Known for its historical significance, the Residency is a group of buildings that were built in 1800 AD by the then Nawab of Oudh, Nawab Saadat Ali Khan. It was the site of the famous Siege of Lucknow during the Indian Rebellion of 1857.'"
      ]
     },
     "execution_count": 27,
     "metadata": {},
     "output_type": "execute_result"
    }
   ],
   "source": [
    "llmchain.run(input_list[1])"
   ]
  },
  {
   "cell_type": "markdown",
   "id": "17b4bdb9-7bdf-4c91-8fed-1303136be8c1",
   "metadata": {},
   "source": [
    "### Router Chains"
   ]
  },
  {
   "cell_type": "code",
   "execution_count": 28,
   "id": "808d1aa8-bd00-4e25-8aff-5767858d8093",
   "metadata": {},
   "outputs": [],
   "source": [
    "from langchain.chains.router import MultiPromptChain\n",
    "from langchain.chat_models import ChatOpenAI\n",
    "from langchain.chains import ConversationChain\n",
    "from langchain.chains import LLMChain\n",
    "from langchain.prompts import PromptTemplate\n",
    "from langchain.chains.router.multi_prompt_prompt import MULTI_PROMPT_ROUTER_TEMPLATE\n",
    "from langchain.chains.router.llm_router import LLMRouterChain, RouterOutputParser"
   ]
  },
  {
   "cell_type": "code",
   "execution_count": 29,
   "id": "238aa85c-aa45-4672-9815-8e22b68dd76d",
   "metadata": {},
   "outputs": [],
   "source": [
    "doctor_temp=\"\"\"consider you are healthcare expert , You are great at answering question realted to medical and healthcare.\n",
    "             when you donot know the answer to  a question you admit that you donot know.\n",
    "             here is a question:\n",
    "             {input}\n",
    "             \"\"\"\n",
    "data_scientist_temp=\"\"\"consider you are data scientist and having expert in Deeplarning and NLP , You are great at answering question realted AI and data science.\n",
    "             when you donot know the answer to  a question you admit that you donot know.\n",
    "             here is a question:\n",
    "             {input}\n",
    "             \"\"\"\n",
    "agri_temp=\"\"\"consider you are farmer and having expert in farming and agriculture , You are great at answering question realted farming.\n",
    "             when you donot know the answer to  a question you admit that you donot know.\n",
    "             here is a question:\n",
    "             {input}\n",
    "             \"\"\""
   ]
  },
  {
   "cell_type": "code",
   "execution_count": 30,
   "id": "192c1d0c-97fa-40b4-b88c-c5f4eae6ce43",
   "metadata": {},
   "outputs": [],
   "source": [
    "prompt_infos = [\n",
    "    {\n",
    "        \"name\": \"doctor\",\n",
    "        \"description\": \"Good for answering questions about healthcare\",\n",
    "        \"prompt_template\": doctor_temp,\n",
    "    },\n",
    "    {\n",
    "        \"name\": \"data scientist\",\n",
    "        \"description\": \"Good for answering Deeplearning amd AI questions\",\n",
    "        \"prompt_template\": data_scientist_temp,\n",
    "    },\n",
    "    {\n",
    "        \"name\":\"agriculture\",\n",
    "        \"description\":\"Good for answering questions about Agriculture and Farming\",\n",
    "        \"prompt_template\":agri_temp\n",
    "    }\n",
    "]"
   ]
  },
  {
   "cell_type": "code",
   "execution_count": 31,
   "id": "f37357a7-6958-4612-bae0-ae44086dfe5c",
   "metadata": {},
   "outputs": [],
   "source": [
    "destination_chains = {}\n",
    "for prompt_info in prompt_infos:\n",
    "    name=prompt_info[\"name\"]\n",
    "    prompt_template=prompt_info[\"prompt_template\"]\n",
    "    prompt=PromptTemplate(template=prompt_template,input_variables=[\"input\"])\n",
    "    chain=LLMChain(llm=chat_model,prompt=prompt)\n",
    "    destination_chains[name]=chain"
   ]
  },
  {
   "cell_type": "code",
   "execution_count": 32,
   "id": "924f844b-4abf-4ff0-9a78-acf9139e6a86",
   "metadata": {},
   "outputs": [],
   "source": [
    "default_chain = ConversationChain(llm=chat_model, output_key=\"text\")"
   ]
  },
  {
   "cell_type": "code",
   "execution_count": 33,
   "id": "0f51423c-ddfe-4f71-b0af-92a846439c95",
   "metadata": {},
   "outputs": [
    {
     "data": {
      "text/plain": [
       "\"Cancer is a group of more than 100 different diseases characterized by the uncontrolled, abnormal growth of cells that can form a tumor or spread to other parts of the body. This process, known as metastasis, is a key feature of invasive cancers and is often the cause of death in cancer patients.\\n\\nCancer can start anywhere in the body and is categorized based on where it begins and the type of cells it affects. For example, lung cancer starts in the lungs, while breast cancer starts in the breast. The cells can become cancerous due to a variety of factors including genetic mutations, exposure to certain chemicals and substances, or certain behaviors like smoking or excessive sun exposure.\\n\\nCancer symptoms can vary widely depending on the type and stage of the disease. Some common symptoms may include fatigue, weight loss, pain that doesn't go away, skin changes, changes in bowel or bladder habits, unusual bleeding, persistent cough, and difficulty swallowing.\\n\\nIt's important to note that not all tumors are cancerous. Benign tumors don't spread to other parts of the body and are usually not life-threatening. Malignant tumors, on the other hand, can invade nearby tissues and spread to distant organs.\\n\\nThere are various types of cancer treatments available, including surgery, radiation therapy, chemotherapy, immunotherapy, targeted therapy, hormone therapy, stem cell transplant, and precision medicine. The choice of treatment depends on the type and stage of the cancer, potential side effects, and the patient's overall health and preferences.\\n\\nDespite the severity of this disease, advances in cancer detection and treatment have led to a steady increase in cancer survival rates. However, cancer still remains a major cause of death worldwide.\""
      ]
     },
     "execution_count": 33,
     "metadata": {},
     "output_type": "execute_result"
    }
   ],
   "source": [
    "default_chain.run(\"What is Cancer explain?\")"
   ]
  },
  {
   "cell_type": "code",
   "execution_count": 34,
   "id": "4cef82a9-80dc-4e6a-a451-941a1d7a3427",
   "metadata": {},
   "outputs": [
    {
     "name": "stdout",
     "output_type": "stream",
     "text": [
      "doctor: Good for answering questions about healthcare\n",
      "data scientist: Good for answering Deeplearning amd AI questions\n",
      "agriculture: Good for answering questions about Agriculture and Farming\n"
     ]
    }
   ],
   "source": [
    "# Creating LLMRouterChain\n",
    "destinations = [f\"{p['name']}: {p['description']}\" for p in prompt_infos]\n",
    "destinations_str = \"\\n\".join(destinations)\n",
    "print(destinations_str)"
   ]
  },
  {
   "cell_type": "code",
   "execution_count": 35,
   "id": "0d7c57d4-c346-481f-aea0-97d300597347",
   "metadata": {},
   "outputs": [],
   "source": [
    "router_template = MULTI_PROMPT_ROUTER_TEMPLATE.format(destinations=destinations_str)\n",
    "\n",
    "router_prompt = PromptTemplate(\n",
    "    template=router_template,\n",
    "    input_variables=[\"input\"],\n",
    "    output_parser=RouterOutputParser(),\n",
    ")"
   ]
  },
  {
   "cell_type": "code",
   "execution_count": 36,
   "id": "c2122fc6-27e5-4915-a505-f6aee3f8a790",
   "metadata": {},
   "outputs": [],
   "source": [
    "# creating the router chain\n",
    "router_chain = LLMRouterChain.from_llm(chat_model, router_prompt)\n",
    "\n",
    "# Multiple Prompt Chain\n",
    "chain = MultiPromptChain(\n",
    "    router_chain=router_chain,\n",
    "    destination_chains=destination_chains,\n",
    "    default_chain=default_chain,\n",
    "    verbose=True,\n",
    ")"
   ]
  },
  {
   "cell_type": "code",
   "execution_count": 37,
   "id": "9bee63b4-a1bb-4fbc-8d56-07bb281e5c65",
   "metadata": {},
   "outputs": [
    {
     "name": "stdout",
     "output_type": "stream",
     "text": [
      "\n",
      "\n",
      "\u001b[1m> Entering new MultiPromptChain chain...\u001b[0m\n",
      "data scientist: {'input': 'What is ai ?'}\n",
      "\u001b[1m> Finished chain.\u001b[0m\n",
      "AI, or Artificial Intelligence, refers to the simulation of human intelligence processes by machines, especially computer systems. These processes include learning (the acquisition of information and rules for using the information), reasoning (using the rules to reach approximate or definite conclusions), and self-correction.\n",
      "\n",
      "AI can be categorized as either weak or strong. Weak AI, also known as narrow AI, is an AI system that is designed and trained for a particular task. Virtual personal assistants, such as Apple's Siri, are a form of weak AI. \n",
      "\n",
      "Strong AI, also known as artificial general intelligence, is an AI system with generalized human cognitive abilities. When presented with an unfamiliar task, a strong AI system is able to find a solution without human intervention.\n",
      "\n",
      "Technologies that enable AI to solve more complex tasks include machine learning, deep learning, natural language processing, and computer vision.\n",
      "\n",
      "\n",
      "\u001b[1m> Entering new MultiPromptChain chain...\u001b[0m\n",
      "doctor: {'input': 'What is COVID-19 ?'}\n",
      "\u001b[1m> Finished chain.\u001b[0m\n",
      "COVID-19 stands for \"Coronavirus Disease 2019.\" It is a disease caused by a new coronavirus called SARS-CoV-2. WHO first learned of this new virus on 31 December 2019, following a report of a cluster of cases of ‘viral pneumonia’ in Wuhan, People’s Republic of China. It primarily spreads between people during close contact, often via small droplets produced by coughing, sneezing, or talking. Symptoms can range from mild (or no symptoms) to severe illness. Common symptoms include fever, cough, and difficulty breathing. Severe illness can lead to pneumonia and other complications which can be fatal.\n",
      "\n",
      "\n",
      "\u001b[1m> Entering new MultiPromptChain chain...\u001b[0m\n",
      "data scientist: {'input': 'What is deeplearning'}\n",
      "\u001b[1m> Finished chain.\u001b[0m\n",
      "Deep learning is a subset of machine learning, which is essentially a neural network with three or more layers. These neural networks attempt to simulate the behavior of the human brain—albeit far from matching its ability—in order to \"learn\" from large amounts of data. While a neural network with a single layer can still make approximate predictions, additional hidden layers can help optimize the accuracy.\n",
      "\n",
      "Deep learning drives many artificial intelligence (AI) applications and services that improve automation, performing analytical and physical tasks without human intervention. This technology is used in various sectors like healthcare, entertainment, finance, retail, automotive, and more, often for pattern recognition, image analysis, natural language processing (NLP), and other complex computations. \n",
      "\n",
      "Deep learning models are built using various architectures like Recurrent Neural Networks (RNN), Convolutional Neural Networks (CNN), and Transformers, depending on the type of problem that needs to be solved.\n",
      "\n",
      "\n",
      "\u001b[1m> Entering new MultiPromptChain chain...\u001b[0m\n",
      "agriculture: {'input': 'which plant is good for farming in summer season'}\n",
      "\u001b[1m> Finished chain.\u001b[0m\n",
      "There are several plants that are particularly suited for summer season farming. Some of them include:\n",
      "\n",
      "1. Corn: Corn is a warm-season crop that's sweetest and most tender when it's harvested in early to mid-summer.\n",
      "\n",
      "2. Tomatoes: These are heat-loving plants that need a long warm period to produce fruit. \n",
      "\n",
      "3. Cucumbers: They prefer warm soil and air, are resistant to most pests, and produce a bountiful harvest.\n",
      "\n",
      "4. Beans: Both bush and pole beans do well in summer. \n",
      "\n",
      "5. Zucchini and other summer squashes: These plants do well in summer and produce prolifically.\n",
      "\n",
      "6. Okra: This plant thrives in the heat and is a great choice for hot, dry areas.\n",
      "\n",
      "7. Melons: Watermelons, cantaloupes, and other melons love the heat.\n",
      "\n",
      "8. Peppers: Both sweet and hot peppers do well in the summer heat.\n",
      "\n",
      "9. Eggplant: This is a heat-loving plant that does well in hot summers.\n",
      "\n",
      "The choice among these would depend on the specific climate and soil conditions of your area as well as market demand.\n"
     ]
    }
   ],
   "source": [
    "# test it out\n",
    "print(chain.run(\"What is ai ?\"))\n",
    "print(chain.run(\"What is COVID-19 ?\"))\n",
    "print(chain.run(\"What is deeplearning\"))\n",
    "print(chain.run(\"which plant is good for farming in summer season\"))"
   ]
  },
  {
   "cell_type": "code",
   "execution_count": null,
   "id": "4f4e8773-1610-4eb1-ad0b-fc81f6483782",
   "metadata": {},
   "outputs": [],
   "source": []
  },
  {
   "cell_type": "code",
   "execution_count": null,
   "id": "7f9f93a9-c7d5-45c2-9fd3-5ba7a9f3d64d",
   "metadata": {},
   "outputs": [],
   "source": []
  }
 ],
 "metadata": {
  "kernelspec": {
   "display_name": "Python 3 (ipykernel)",
   "language": "python",
   "name": "python3"
  },
  "language_info": {
   "codemirror_mode": {
    "name": "ipython",
    "version": 3
   },
   "file_extension": ".py",
   "mimetype": "text/x-python",
   "name": "python",
   "nbconvert_exporter": "python",
   "pygments_lexer": "ipython3",
   "version": "3.10.13"
  }
 },
 "nbformat": 4,
 "nbformat_minor": 5
}

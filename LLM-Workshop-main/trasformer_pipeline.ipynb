{
 "cells": [
  {
   "cell_type": "markdown",
   "id": "0f97ef39",
   "metadata": {},
   "source": [
    "#### Pipeline\n",
    "The pipelines are a great and easy way to use models for inference"
   ]
  },
  {
   "attachments": {
    "a0d9f7c3-89ed-4de9-86f1-0d1f1bc155ce.png": {
     "image/png": "[encoded data removed]"
    }
   },
   "cell_type": "markdown",
   "id": "3bf5e50a-6743-4794-8ae9-5055721bfb6d",
   "metadata": {},
   "source": [
    "![Pipeline.drawio.png](attachment:a0d9f7c3-89ed-4de9-86f1-0d1f1bc155ce.png)"
   ]
  },
  {
   "cell_type": "markdown",
   "id": "ebe80278-80c4-4a0b-8d06-7e828b244bb6",
   "metadata": {},
   "source": [
    "### Tokenizer"
   ]
  },
  {
   "cell_type": "code",
   "execution_count": 1,
   "id": "972aa91e-7d45-432c-a9f2-4f438deefafb",
   "metadata": {},
   "outputs": [],
   "source": [
    "from transformers import AutoTokenizer"
   ]
  },
  {
   "cell_type": "code",
   "execution_count": 2,
   "id": "c8d6c73e-32c7-4c27-9a6b-1689567f1326",
   "metadata": {},
   "outputs": [],
   "source": [
    "tokenizer=AutoTokenizer.from_pretrained(\"bert-base-cased\")"
   ]
  },
  {
   "cell_type": "code",
   "execution_count": 3,
   "id": "85799442-bbad-47da-84e2-e0a52da0bf26",
   "metadata": {},
   "outputs": [],
   "source": [
    "sent1=\"Generative AI refers to artificial intelligence models that can generate new content, such as text, images, or music\" "
   ]
  },
  {
   "cell_type": "code",
   "execution_count": 4,
   "id": "a8f96831-d0fb-4a5a-9710-5c3d509e8e69",
   "metadata": {},
   "outputs": [
    {
     "data": {
      "text/plain": [
       "'Generative AI refers to artificial intelligence models that can generate new content, such as text, images, or music'"
      ]
     },
     "execution_count": 4,
     "metadata": {},
     "output_type": "execute_result"
    }
   ],
   "source": [
    "sent1"
   ]
  },
  {
   "cell_type": "code",
   "execution_count": 5,
   "id": "5b7954ef-a6e7-423b-9b2b-82c51da3fc32",
   "metadata": {},
   "outputs": [],
   "source": [
    "result=tokenizer(sent1)"
   ]
  },
  {
   "cell_type": "code",
   "execution_count": 6,
   "id": "ca4c8b73-15b6-4cca-b4b5-61b17af3f6a6",
   "metadata": {},
   "outputs": [
    {
     "data": {
      "text/plain": [
       "{'input_ids': [101, 9066, 15306, 19016, 4431, 1106, 8246, 4810, 3584, 1115, 1169, 9509, 1207, 3438, 117, 1216, 1112, 3087, 117, 4351, 117, 1137, 1390, 102], 'token_type_ids': [0, 0, 0, 0, 0, 0, 0, 0, 0, 0, 0, 0, 0, 0, 0, 0, 0, 0, 0, 0, 0, 0, 0, 0], 'attention_mask': [1, 1, 1, 1, 1, 1, 1, 1, 1, 1, 1, 1, 1, 1, 1, 1, 1, 1, 1, 1, 1, 1, 1, 1]}"
      ]
     },
     "execution_count": 6,
     "metadata": {},
     "output_type": "execute_result"
    }
   ],
   "source": [
    "result"
   ]
  },
  {
   "cell_type": "markdown",
   "id": "293374e1-3e7f-495b-b390-a097cd147da6",
   "metadata": {},
   "source": [
    "#### Example :2"
   ]
  },
  {
   "cell_type": "code",
   "execution_count": 7,
   "id": "6259519e-7e2a-4366-8c05-b6e015f5abc7",
   "metadata": {},
   "outputs": [],
   "source": [
    "# Example sentences\n",
    "sentence_a = \"Hello, how are you?\"\n",
    "sentence_b = \"I am fine, thank you.\""
   ]
  },
  {
   "cell_type": "code",
   "execution_count": 8,
   "id": "ca649386-cdda-4338-b3b8-67bb0f6c0de1",
   "metadata": {},
   "outputs": [],
   "source": [
    "result_2=tokenizer(sentence_a,sentence_b,padding=True,truncation=True)"
   ]
  },
  {
   "cell_type": "code",
   "execution_count": 9,
   "id": "bb7611e8-b2d5-4a3f-a196-97ea2c7567e5",
   "metadata": {},
   "outputs": [
    {
     "data": {
      "text/plain": [
       "{'input_ids': [101, 8667, 117, 1293, 1132, 1128, 136, 102, 146, 1821, 2503, 117, 6243, 1128, 119, 102], 'token_type_ids': [0, 0, 0, 0, 0, 0, 0, 0, 1, 1, 1, 1, 1, 1, 1, 1], 'attention_mask': [1, 1, 1, 1, 1, 1, 1, 1, 1, 1, 1, 1, 1, 1, 1, 1]}"
      ]
     },
     "execution_count": 9,
     "metadata": {},
     "output_type": "execute_result"
    }
   ],
   "source": [
    "result_2"
   ]
  },
  {
   "cell_type": "code",
   "execution_count": 10,
   "id": "289c8cfa-4141-417a-81d2-710e60b17827",
   "metadata": {},
   "outputs": [
    {
     "data": {
      "text/plain": [
       "'[CLS] Hello, how are you? [SEP] I am fine, thank you. [SEP]'"
      ]
     },
     "execution_count": 10,
     "metadata": {},
     "output_type": "execute_result"
    }
   ],
   "source": [
    "tokenizer.decode(result_2[\"input_ids\"])"
   ]
  },
  {
   "cell_type": "code",
   "execution_count": null,
   "id": "3a68b48e-cecc-4981-ab15-c775d7ea0e1e",
   "metadata": {},
   "outputs": [],
   "source": []
  },
  {
   "cell_type": "raw",
   "id": "5f4de085",
   "metadata": {},
   "source": [
    "pipeline(task=“task_name”)"
   ]
  },
  {
   "cell_type": "code",
   "execution_count": 13,
   "id": "c0b7e296",
   "metadata": {},
   "outputs": [
    {
     "name": "stderr",
     "output_type": "stream",
     "text": [
      "C:\\Users\\verma\\anaconda3\\envs\\llm_env\\lib\\site-packages\\transformers\\utils\\generic.py:260: UserWarning: torch.utils._pytree._register_pytree_node is deprecated. Please use torch.utils._pytree.register_pytree_node instead.\n",
      "  torch.utils._pytree._register_pytree_node(\n"
     ]
    }
   ],
   "source": [
    "from transformers import pipeline\n",
    "import warnings\n",
    "warnings.filterwarnings(\"ignore\")"
   ]
  },
  {
   "cell_type": "markdown",
   "id": "c33d689a",
   "metadata": {},
   "source": [
    "#### Task\n",
    "1.Text classification\n",
    "2.Text generation\n",
    "3.Summarization\n",
    "4.Image classification\n",
    "5.Image segmentation\n",
    "6.Object detection\n",
    "7.Visual question answering\n",
    "8.Document question answering\n",
    "9.Image captioning"
   ]
  },
  {
   "cell_type": "code",
   "execution_count": 11,
   "id": "5f75a32d",
   "metadata": {},
   "outputs": [],
   "source": [
    "#task_pipeline=pipeline(model=\"model\")"
   ]
  },
  {
   "cell_type": "code",
   "execution_count": 14,
   "id": "68d0181a",
   "metadata": {},
   "outputs": [
    {
     "name": "stderr",
     "output_type": "stream",
     "text": [
      "No model was supplied, defaulted to distilbert-base-uncased-finetuned-sst-2-english and revision af0f99b (https://huggingface.co/distilbert-base-uncased-finetuned-sst-2-english).\n",
      "Using a pipeline without specifying a model name and revision in production is not recommended.\n"
     ]
    },
    {
     "data": {
      "text/plain": [
       "[{'label': 'POSITIVE', 'score': 0.9998795986175537},\n",
       " {'label': 'NEGATIVE', 'score': 0.9017388820648193}]"
      ]
     },
     "execution_count": 14,
     "metadata": {},
     "output_type": "execute_result"
    }
   ],
   "source": [
    "classifier = pipeline(\"sentiment-analysis\")\n",
    "classifier(\n",
    "    [\n",
    "        \"i am very happy \",\n",
    "        \"learning transformers is not very difficult\",\n",
    "    ]\n",
    ")"
   ]
  },
  {
   "cell_type": "code",
   "execution_count": 15,
   "id": "b1d76ad6",
   "metadata": {},
   "outputs": [
    {
     "name": "stderr",
     "output_type": "stream",
     "text": [
      "Some weights of the model checkpoint at roberta-large-mnli were not used when initializing RobertaForSequenceClassification: ['roberta.pooler.dense.weight', 'roberta.pooler.dense.bias']\n",
      "- This IS expected if you are initializing RobertaForSequenceClassification from the checkpoint of a model trained on another task or with another architecture (e.g. initializing a BertForSequenceClassification model from a BertForPreTraining model).\n",
      "- This IS NOT expected if you are initializing RobertaForSequenceClassification from the checkpoint of a model that you expect to be exactly identical (initializing a BertForSequenceClassification model from a BertForSequenceClassification model).\n"
     ]
    },
    {
     "data": {
      "text/plain": [
       "[{'label': 'NEUTRAL', 'score': 0.5182392597198486},\n",
       " {'label': 'NEUTRAL', 'score': 0.6210756897926331}]"
      ]
     },
     "execution_count": 15,
     "metadata": {},
     "output_type": "execute_result"
    }
   ],
   "source": [
    "classifier = pipeline(\"sentiment-analysis\",model=\"roberta-large-mnli\")\n",
    "classifier(\n",
    "    [\n",
    "        \"i am very happy \",\n",
    "        \"learning transformers is not very difficult\",\n",
    "    ]\n",
    ")"
   ]
  },
  {
   "cell_type": "markdown",
   "id": "f4cf156c",
   "metadata": {},
   "source": [
    "##### zero-shot-classification"
   ]
  },
  {
   "cell_type": "code",
   "execution_count": 16,
   "id": "b98f4767",
   "metadata": {},
   "outputs": [
    {
     "name": "stderr",
     "output_type": "stream",
     "text": [
      "Some weights of the model checkpoint at roberta-large-mnli were not used when initializing RobertaForSequenceClassification: ['roberta.pooler.dense.weight', 'roberta.pooler.dense.bias']\n",
      "- This IS expected if you are initializing RobertaForSequenceClassification from the checkpoint of a model trained on another task or with another architecture (e.g. initializing a BertForSequenceClassification model from a BertForPreTraining model).\n",
      "- This IS NOT expected if you are initializing RobertaForSequenceClassification from the checkpoint of a model that you expect to be exactly identical (initializing a BertForSequenceClassification model from a BertForSequenceClassification model).\n"
     ]
    }
   ],
   "source": [
    "classifier = pipeline('zero-shot-classification', model='roberta-large-mnli')"
   ]
  },
  {
   "cell_type": "code",
   "execution_count": 21,
   "id": "d0894f55",
   "metadata": {},
   "outputs": [
    {
     "data": {
      "text/plain": [
       "{'sequence': 'what do want to eat while travelling by train',\n",
       " 'labels': ['travel', 'cooking', 'dancing', 'education'],\n",
       " 'scores': [0.8697652816772461,\n",
       "  0.10905522108078003,\n",
       "  0.010797790251672268,\n",
       "  0.010381652973592281]}"
      ]
     },
     "execution_count": 21,
     "metadata": {},
     "output_type": "execute_result"
    }
   ],
   "source": [
    "sequence_to_classify = \"what do want to eat while travelling by train\"\n",
    "candidate_labels = ['travel', 'cooking', 'dancing','education']\n",
    "classifier(sequence_to_classify, candidate_labels)\n"
   ]
  },
  {
   "cell_type": "code",
   "execution_count": null,
   "id": "2b9f71f5",
   "metadata": {},
   "outputs": [],
   "source": []
  },
  {
   "cell_type": "code",
   "execution_count": null,
   "id": "901c20f5-f394-46d6-b201-80e89aca70d1",
   "metadata": {},
   "outputs": [],
   "source": []
  }
 ],
 "metadata": {
  "kernelspec": {
   "display_name": "Python 3 (ipykernel)",
   "language": "python",
   "name": "python3"
  },
  "language_info": {
   "codemirror_mode": {
    "name": "ipython",
    "version": 3
   },
   "file_extension": ".py",
   "mimetype": "text/x-python",
   "name": "python",
   "nbconvert_exporter": "python",
   "pygments_lexer": "ipython3",
   "version": "3.10.13"
  }
 },
 "nbformat": 4,
 "nbformat_minor": 5
}

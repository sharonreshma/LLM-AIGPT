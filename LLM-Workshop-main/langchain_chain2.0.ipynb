{
 "cells": [
  {
   "cell_type": "code",
   "execution_count": 6,
   "id": "cf56a1f6-d671-4a35-a802-edd219d594ea",
   "metadata": {},
   "outputs": [],
   "source": [
    "import os \n",
    "import openai\n",
    "from dotenv import load_dotenv,find_dotenv"
   ]
  },
  {
   "cell_type": "code",
   "execution_count": 7,
   "id": "badd9d1b-3e96-4410-a064-24357a83f24d",
   "metadata": {},
   "outputs": [
    {
     "data": {
      "text/plain": [
       "True"
      ]
     },
     "execution_count": 7,
     "metadata": {},
     "output_type": "execute_result"
    }
   ],
   "source": [
    "load_dotenv(find_dotenv(),override=True)"
   ]
  },
  {
   "cell_type": "code",
   "execution_count": 8,
   "id": "c6f9cf89-8555-4c12-9f5c-ecbd5c23ecd6",
   "metadata": {},
   "outputs": [],
   "source": [
    "openai.api_key=os.environ[\"OPENAI_API_KEY\"]"
   ]
  },
  {
   "cell_type": "code",
   "execution_count": 9,
   "id": "de21e439-365a-43dd-8716-7ba51b869ebb",
   "metadata": {},
   "outputs": [],
   "source": [
    "from langchain.chat_models import ChatOpenAI\n",
    "from langchain.prompts.chat import ChatPromptTemplate,HumanMessagePromptTemplate"
   ]
  },
  {
   "cell_type": "code",
   "execution_count": 10,
   "id": "883e026e-a306-47de-b078-efcbe4aa3ce6",
   "metadata": {},
   "outputs": [],
   "source": [
    "human_poompt=HumanMessagePromptTemplate.from_template('Give me name of company for {Product}')"
   ]
  },
  {
   "cell_type": "code",
   "execution_count": 11,
   "id": "39ed27e1-13eb-4be6-b883-563b4c34026d",
   "metadata": {},
   "outputs": [],
   "source": [
    "chat_prompt_temp=ChatPromptTemplate.from_messages([human_poompt])"
   ]
  },
  {
   "cell_type": "code",
   "execution_count": 12,
   "id": "8cd02026-4483-436b-800a-d609e0d039a0",
   "metadata": {},
   "outputs": [
    {
     "name": "stderr",
     "output_type": "stream",
     "text": [
      "C:\\Users\\verma\\anaconda3\\envs\\llm_env\\lib\\site-packages\\langchain_core\\_api\\deprecation.py:117: LangChainDeprecationWarning: The class `langchain_community.chat_models.openai.ChatOpenAI` was deprecated in langchain-community 0.0.10 and will be removed in 0.2.0. An updated version of the class exists in the langchain-openai package and should be used instead. To use it run `pip install -U langchain-openai` and import as `from langchain_openai import ChatOpenAI`.\n",
      "  warn_deprecated(\n"
     ]
    }
   ],
   "source": [
    "chat_model=ChatOpenAI(model=\"gpt-4\")"
   ]
  },
  {
   "cell_type": "code",
   "execution_count": 13,
   "id": "a21a5ed0-941c-44a3-abb0-0432a2b6d28d",
   "metadata": {},
   "outputs": [],
   "source": [
    "from langchain.chains import LLMChain"
   ]
  },
  {
   "cell_type": "code",
   "execution_count": 14,
   "id": "326b7713-e258-443f-ab18-2b31fc3141c5",
   "metadata": {},
   "outputs": [],
   "source": [
    "chain=LLMChain(llm=chat_model,prompt=chat_prompt_temp)"
   ]
  },
  {
   "cell_type": "code",
   "execution_count": 15,
   "id": "d196ffa4-73ca-4395-a25d-168c78f9550c",
   "metadata": {},
   "outputs": [
    {
     "name": "stderr",
     "output_type": "stream",
     "text": [
      "C:\\Users\\verma\\anaconda3\\envs\\llm_env\\lib\\site-packages\\langchain_core\\_api\\deprecation.py:117: LangChainDeprecationWarning: The function `run` was deprecated in LangChain 0.1.0 and will be removed in 0.2.0. Use invoke instead.\n",
      "  warn_deprecated(\n"
     ]
    }
   ],
   "source": [
    "result=chain.run(Product=\"Milk\")"
   ]
  },
  {
   "cell_type": "code",
   "execution_count": 16,
   "id": "51ca22c4-22c3-408f-91c1-7d04a3c4acfe",
   "metadata": {},
   "outputs": [
    {
     "name": "stdout",
     "output_type": "stream",
     "text": [
      "1. Nestle\n",
      "2. Dairy Farmers of America\n",
      "3. Dean Foods\n",
      "4. Danone\n",
      "5. Land O'Lakes\n",
      "6. Fonterra Co-operative Group\n",
      "7. California Dairies, Inc.\n",
      "8. Arla Foods\n",
      "9. Prairie Farms Dairy\n",
      "10. Borden Dairy Company\n",
      "11. Organic Valley\n",
      "12. Horizon Organic\n",
      "13. Parmalat\n",
      "14. Fairlife LLC\n",
      "15. Yili Group\n",
      "16. Mother Dairy\n",
      "17. Amul (Anand Milk Union Limited)\n",
      "18. Clover Stornetta Farms, Inc.\n",
      "19. Shamrock Farms\n",
      "20. Lactalis Group.\n"
     ]
    }
   ],
   "source": [
    "print(result)"
   ]
  },
  {
   "cell_type": "markdown",
   "id": "02c0c9b9-4983-460f-b352-6154e9409356",
   "metadata": {},
   "source": [
    "#### SimpleSeqentialChain"
   ]
  },
  {
   "cell_type": "code",
   "execution_count": 17,
   "id": "8ad71546-bd96-4af1-8005-406489c8e12a",
   "metadata": {},
   "outputs": [],
   "source": [
    "from langchain.chains import LLMChain,SimpleSequentialChain"
   ]
  },
  {
   "cell_type": "code",
   "execution_count": 18,
   "id": "4b591aa5-b054-4294-a17d-712d3443ef40",
   "metadata": {},
   "outputs": [],
   "source": [
    "chat_model=ChatOpenAI(model=\"gpt-4\")"
   ]
  },
  {
   "cell_type": "code",
   "execution_count": 19,
   "id": "58573fc9-f2e4-4709-8a38-372a870d324e",
   "metadata": {},
   "outputs": [],
   "source": [
    "template=\"Give me simple bullet point outline for a blog post on {topic}\"\n",
    "first_prompt=ChatPromptTemplate.from_template(template)\n",
    "chain_one=LLMChain(llm=chat_model,prompt=first_prompt)"
   ]
  },
  {
   "cell_type": "code",
   "execution_count": 20,
   "id": "79a1054b-2f5f-41a1-82f6-8ee93e4a04eb",
   "metadata": {},
   "outputs": [],
   "source": [
    "template2=\"write a blog post using this outline {outline}\"\n",
    "second_prompt=ChatPromptTemplate.from_template(template2)\n",
    "chain_2=LLMChain(llm=chat_model,prompt=second_prompt)"
   ]
  },
  {
   "cell_type": "code",
   "execution_count": 21,
   "id": "95677d7f-93d6-4846-94c3-2168271a6b2b",
   "metadata": {},
   "outputs": [],
   "source": [
    "full_chain=SimpleSequentialChain(chains=[chain_one,chain_2],verbose=True)"
   ]
  },
  {
   "cell_type": "code",
   "execution_count": 22,
   "id": "fb6d2ae9-95f9-470d-888c-a4f91c2f362e",
   "metadata": {},
   "outputs": [
    {
     "name": "stdout",
     "output_type": "stream",
     "text": [
      "\n",
      "\n",
      "\u001b[1m> Entering new SimpleSequentialChain chain...\u001b[0m\n",
      "\u001b[36;1m\u001b[1;3mI. Introduction\n",
      "    - Brief overview of Machine Learning\n",
      "    - Importance and relevance of Machine Learning\n",
      "\n",
      "II. Understanding Machine Learning \n",
      "    - Definition of Machine Learning\n",
      "    - Types of Machine Learning: Supervised, Unsupervised, Semi-Supervised, and Reinforcement Learning\n",
      "    - Basic terminologies in Machine Learning \n",
      "\n",
      "III. Machine Learning Algorithms\n",
      "    - Overview of Machine Learning Algorithms\n",
      "    - Detailed explanation of some common algorithms like Decision Trees, Neural Networks, Support Vector Machines, etc.\n",
      "    \n",
      "IV. Applications of Machine Learning\n",
      "    - Use of Machine Learning in various industries\n",
      "    - Real-world examples of Machine Learning applications\n",
      "\n",
      "V. How to Get Started with Machine Learning\n",
      "    - Recommended prerequisites for learning Machine Learning\n",
      "    - Resources for learning Machine Learning (books, courses, etc.)\n",
      "    - Tools and software for Machine Learning \n",
      "\n",
      "VI. Challenges and Limitations of Machine Learning\n",
      "    - Common challenges in implementing Machine Learning \n",
      "    - Ethical considerations in Machine Learning \n",
      "\n",
      "VII. Future of Machine Learning\n",
      "    - Current trends in Machine Learning\n",
      "    - Predictions for future developments in the field\n",
      "\n",
      "VIII. Conclusion\n",
      "    - Recap of key points covered\n",
      "    - Encouragement for readers to explore Machine Learning further.\u001b[0m\n",
      "\u001b[33;1m\u001b[1;3mI. Introduction\n",
      "\n",
      "Machine Learning (ML) is a fascinating subset of Artificial Intelligence that has captivated the imagination of the tech-world. The concept of machines learning from data, identifying patterns, and making decisions with minimal human intervention is both intriguing and revolutionary. The importance and relevance of Machine Learning in today's time can't be overstated. It is driving business and societal transformations across all sectors, making our lives easier, more efficient, and even more exciting.\n",
      "\n",
      "II. Understanding Machine Learning\n",
      "\n",
      "Machine Learning is the science of getting computers to learn and act like humans do, improving their learning over time in an autonomous fashion by feeding them data and information in the form of observations and real-world interactions. It comes in four main types: Supervised Learning (learning from labeled data), Unsupervised Learning (learning from unlabeled data), Semi-Supervised Learning (a combination of the two), and Reinforcement Learning (learning to make decisions based on rewards and penalties).\n",
      "\n",
      "Key terminologies in Machine Learning include algorithms (a set of instructions for the computer), models (the output of a machine learning algorithm when it is trained on data), and training (teaching a machine learning model how to respond to new data).\n",
      "\n",
      "III. Machine Learning Algorithms\n",
      "\n",
      "Machine Learning is powered by algorithms. These algorithms are the heart and soul of Machine Learning, making the magic happen. Some common algorithms include Decision Trees, which are simple yet powerful tools for decision analysis; Neural Networks, which mimic the human brain to 'learn' from observational data; Support Vector Machines, a powerful classification algorithm, and many more.\n",
      "\n",
      "IV. Applications of Machine Learning\n",
      "\n",
      "Machine Learning is transforming every industry. In healthcare, it's being used to predict diseases and personalize treatment; in finance, to detect fraudulent transactions; in retail, to manage inventory and recommend products; and in autonomous vehicles, to enable self-driving functionality. These are just a handful of examples - the applications for Machine Learning are limitless.\n",
      "\n",
      "V. How to Get Started with Machine Learning\n",
      "\n",
      "Getting started with Machine Learning requires a basic understanding of mathematics, statistics, and programming. There are plenty of resources available online including books, courses, and tutorials. Tools and software like Python, R, TensorFlow, and Keras are essential for implementing Machine Learning.\n",
      "\n",
      "VI. Challenges and Limitations of Machine Learning\n",
      "\n",
      "Despite its potential, Machine Learning does face challenges. These include obtaining quality data, dealing with bias in algorithms, and ensuring privacy and security. There are also ethical considerations to keep in mind, as decisions made by algorithms can have significant implications for individuals and society.\n",
      "\n",
      "VII. Future of Machine Learning\n",
      "\n",
      "Machine Learning is an evolving field, with current trends including deep learning, neural networks, and reinforcement learning. Predictions for the future include the integration of Machine Learning in more devices, improved algorithms, and more ethical and transparent practices.\n",
      "\n",
      "VIII. Conclusion\n",
      "\n",
      "Machine Learning is a powerful, transformative technology that is reshaping our world. The journey to understanding and harnessing its potential is challenging yet rewarding. I encourage you to dive deeper into this fascinating field - who knows what exciting discoveries await?\u001b[0m\n",
      "\n",
      "\u001b[1m> Finished chain.\u001b[0m\n"
     ]
    },
    {
     "data": {
      "text/plain": [
       "\"I. Introduction\\n\\nMachine Learning (ML) is a fascinating subset of Artificial Intelligence that has captivated the imagination of the tech-world. The concept of machines learning from data, identifying patterns, and making decisions with minimal human intervention is both intriguing and revolutionary. The importance and relevance of Machine Learning in today's time can't be overstated. It is driving business and societal transformations across all sectors, making our lives easier, more efficient, and even more exciting.\\n\\nII. Understanding Machine Learning\\n\\nMachine Learning is the science of getting computers to learn and act like humans do, improving their learning over time in an autonomous fashion by feeding them data and information in the form of observations and real-world interactions. It comes in four main types: Supervised Learning (learning from labeled data), Unsupervised Learning (learning from unlabeled data), Semi-Supervised Learning (a combination of the two), and Reinforcement Learning (learning to make decisions based on rewards and penalties).\\n\\nKey terminologies in Machine Learning include algorithms (a set of instructions for the computer), models (the output of a machine learning algorithm when it is trained on data), and training (teaching a machine learning model how to respond to new data).\\n\\nIII. Machine Learning Algorithms\\n\\nMachine Learning is powered by algorithms. These algorithms are the heart and soul of Machine Learning, making the magic happen. Some common algorithms include Decision Trees, which are simple yet powerful tools for decision analysis; Neural Networks, which mimic the human brain to 'learn' from observational data; Support Vector Machines, a powerful classification algorithm, and many more.\\n\\nIV. Applications of Machine Learning\\n\\nMachine Learning is transforming every industry. In healthcare, it's being used to predict diseases and personalize treatment; in finance, to detect fraudulent transactions; in retail, to manage inventory and recommend products; and in autonomous vehicles, to enable self-driving functionality. These are just a handful of examples - the applications for Machine Learning are limitless.\\n\\nV. How to Get Started with Machine Learning\\n\\nGetting started with Machine Learning requires a basic understanding of mathematics, statistics, and programming. There are plenty of resources available online including books, courses, and tutorials. Tools and software like Python, R, TensorFlow, and Keras are essential for implementing Machine Learning.\\n\\nVI. Challenges and Limitations of Machine Learning\\n\\nDespite its potential, Machine Learning does face challenges. These include obtaining quality data, dealing with bias in algorithms, and ensuring privacy and security. There are also ethical considerations to keep in mind, as decisions made by algorithms can have significant implications for individuals and society.\\n\\nVII. Future of Machine Learning\\n\\nMachine Learning is an evolving field, with current trends including deep learning, neural networks, and reinforcement learning. Predictions for the future include the integration of Machine Learning in more devices, improved algorithms, and more ethical and transparent practices.\\n\\nVIII. Conclusion\\n\\nMachine Learning is a powerful, transformative technology that is reshaping our world. The journey to understanding and harnessing its potential is challenging yet rewarding. I encourage you to dive deeper into this fascinating field - who knows what exciting discoveries await?\""
      ]
     },
     "execution_count": 22,
     "metadata": {},
     "output_type": "execute_result"
    }
   ],
   "source": [
    "full_chain.run(\"Machine Learning\")"
   ]
  },
  {
   "cell_type": "markdown",
   "id": "1b6fd07f-b027-427d-b118-86f135a50f72",
   "metadata": {},
   "source": [
    "### SequentialChain"
   ]
  },
  {
   "cell_type": "code",
   "execution_count": 23,
   "id": "cd220637-d4d5-4033-900a-f93d8162b745",
   "metadata": {},
   "outputs": [],
   "source": [
    "from langchain.chains import LLMChain,SimpleSequentialChain,SequentialChain\n",
    "from langchain.prompts.chat import ChatPromptTemplate,HumanMessagePromptTemplate"
   ]
  },
  {
   "cell_type": "code",
   "execution_count": 24,
   "id": "01724c44-03ee-462f-9073-d3489335bf21",
   "metadata": {},
   "outputs": [],
   "source": [
    "chat_model_1=ChatOpenAI(model=\"gpt-4\")"
   ]
  },
  {
   "cell_type": "markdown",
   "id": "29a7b202-a8c5-489f-8aa2-4b7839230d68",
   "metadata": {},
   "source": [
    "## LLM Routerchain"
   ]
  },
  {
   "cell_type": "code",
   "execution_count": 25,
   "id": "7df619eb-7b66-4e3e-8af2-7e9163a2365e",
   "metadata": {},
   "outputs": [],
   "source": [
    "from langchain.chains.router.multi_prompt_prompt import MULTI_PROMPT_ROUTER_TEMPLATE"
   ]
  },
  {
   "cell_type": "code",
   "execution_count": 27,
   "id": "f43464cb-69ae-4a20-baed-af5f0af51655",
   "metadata": {},
   "outputs": [],
   "source": [
    "#print(MULTI_PROMPT_ROUTER_TEMPLATE)"
   ]
  },
  {
   "cell_type": "markdown",
   "id": "1c518200-225b-4f7b-9c67-3e9867f3f48c",
   "metadata": {},
   "source": [
    "### memory"
   ]
  },
  {
   "cell_type": "code",
   "execution_count": 28,
   "id": "a07c8e38-bd47-4f2e-a3ae-a9fa64ab9776",
   "metadata": {},
   "outputs": [],
   "source": [
    "from langchain.memory import ChatMessageHistory"
   ]
  },
  {
   "cell_type": "code",
   "execution_count": 29,
   "id": "069dd8e8-b338-4783-9778-fda67ca688dd",
   "metadata": {},
   "outputs": [],
   "source": [
    "history=ChatMessageHistory()"
   ]
  },
  {
   "cell_type": "code",
   "execution_count": 30,
   "id": "edaf6fb5-8ce9-4455-b28a-b42dd43a23c6",
   "metadata": {},
   "outputs": [],
   "source": [
    "history.add_user_message(\"hello nice to meet you\")\n",
    "history.add_ai_message(\"nice to meet you\")"
   ]
  },
  {
   "cell_type": "code",
   "execution_count": 31,
   "id": "4c8d271c-2e14-43bf-beda-ece59d86e19f",
   "metadata": {},
   "outputs": [
    {
     "data": {
      "text/plain": [
       "[HumanMessage(content='hello nice to meet you'),\n",
       " AIMessage(content='nice to meet you')]"
      ]
     },
     "execution_count": 31,
     "metadata": {},
     "output_type": "execute_result"
    }
   ],
   "source": [
    "history.messages"
   ]
  },
  {
   "cell_type": "code",
   "execution_count": 33,
   "id": "39ba7053-a00f-472e-a60c-f2c3468902e0",
   "metadata": {},
   "outputs": [],
   "source": [
    "from langchain.chat_models import ChatOpenAI\n",
    "from langchain.chains import ConversationChain\n",
    "from langchain.memory import ConversationBufferMemory"
   ]
  },
  {
   "cell_type": "code",
   "execution_count": 35,
   "id": "b8e06da2-ca34-477f-b8e1-2e3d7470d5cd",
   "metadata": {},
   "outputs": [],
   "source": [
    "chat_model=ChatOpenAI(model='gpt-4')"
   ]
  },
  {
   "cell_type": "code",
   "execution_count": 36,
   "id": "7aabde6f-5105-486a-8f71-a99e03534f73",
   "metadata": {},
   "outputs": [],
   "source": [
    "memory=ConversationBufferMemory()"
   ]
  },
  {
   "cell_type": "code",
   "execution_count": 37,
   "id": "bf9cbeed-72a6-423e-ab25-21ce69fab65e",
   "metadata": {},
   "outputs": [],
   "source": [
    "conversation=ConversationChain(llm=chat_model,memory=memory,verbose=True)"
   ]
  },
  {
   "cell_type": "code",
   "execution_count": 38,
   "id": "45c4084c-6c15-4201-825a-b79b8284f2e0",
   "metadata": {},
   "outputs": [
    {
     "name": "stdout",
     "output_type": "stream",
     "text": [
      "\n",
      "\n",
      "\u001b[1m> Entering new ConversationChain chain...\u001b[0m\n",
      "Prompt after formatting:\n",
      "\u001b[32;1m\u001b[1;3mThe following is a friendly conversation between a human and an AI. The AI is talkative and provides lots of specific details from its context. If the AI does not know the answer to a question, it truthfully says it does not know.\n",
      "\n",
      "Current conversation:\n",
      "\n",
      "Human: hello nice to meet you\n",
      "AI:\u001b[0m\n",
      "\n",
      "\u001b[1m> Finished chain.\u001b[0m\n"
     ]
    },
    {
     "data": {
      "text/plain": [
       "\"Hello! It's wonderful to meet you too. My name is OpenAI. I'm an artificial intelligence here to provide you with any information you need, answer your questions, or just chat. How can I assist you today?\""
      ]
     },
     "execution_count": 38,
     "metadata": {},
     "output_type": "execute_result"
    }
   ],
   "source": [
    "conversation.predict(input=\"hello nice to meet you\")"
   ]
  },
  {
   "cell_type": "code",
   "execution_count": 39,
   "id": "d8922663-e498-4f8f-a8db-382529e16458",
   "metadata": {},
   "outputs": [
    {
     "name": "stdout",
     "output_type": "stream",
     "text": [
      "\n",
      "\n",
      "\u001b[1m> Entering new ConversationChain chain...\u001b[0m\n",
      "Prompt after formatting:\n",
      "\u001b[32;1m\u001b[1;3mThe following is a friendly conversation between a human and an AI. The AI is talkative and provides lots of specific details from its context. If the AI does not know the answer to a question, it truthfully says it does not know.\n",
      "\n",
      "Current conversation:\n",
      "Human: hello nice to meet you\n",
      "AI: Hello! It's wonderful to meet you too. My name is OpenAI. I'm an artificial intelligence here to provide you with any information you need, answer your questions, or just chat. How can I assist you today?\n",
      "Human: tell me about physics facts\n",
      "AI:\u001b[0m\n",
      "\n",
      "\u001b[1m> Finished chain.\u001b[0m\n"
     ]
    },
    {
     "data": {
      "text/plain": [
       "'Sure, I\\'d be glad to share some fascinating facts about physics!\\n\\n1. Physics is the study of matter, energy, and the interaction between them. It seeks to explain the fundamental mechanisms of the universe.\\n\\n2. The speed of light is approximately 299,792 kilometers per second. This speed is so fast that light can travel around the Earth about 7.5 times in just one second.\\n\\n3. Sir Isaac Newton\\'s three laws of motion, first published in 1687, form the foundation of classical mechanics. These laws describe the relationship between a body and the forces acting upon it, and its motion in response to those forces.\\n\\n4. Albert Einstein\\'s theory of relativity revolutionized the understanding of space, time, and gravity. His famous equation, E=mc^2, implies that energy (E) can be converted into mass (m) and vice versa, with \"c\" being the speed of light.\\n\\n5. Quantum mechanics is a branch of physics dealing with phenomena on a very small scale, such as atoms and subatomic particles. It\\'s notorious for its strange implications, like the idea that particles can exist in multiple places at once.\\n\\n6. The smallest particle in the universe that physicists have discovered is the quark. Quarks combine to form protons and neutrons, which in turn form atoms.\\n\\n7. Dark matter and dark energy are believed to make up about 95% of the universe, but they\\'re called \"dark\" because they do not interact with electromagnetic fields, which makes them nearly impossible to detect with current technology.\\n\\n8. The Large Hadron Collider (LHC) is the world\\'s largest and most powerful particle accelerator. It\\'s based in the European Organization for Nuclear Research (CERN) and it was used to discover a particle called the Higgs boson in 2012.\\n\\n9. The concept of \"black holes\" was first theorized by John Michell in 1783. Black holes are regions in spacetime where gravity is so strong, nothing can escape from it, not even light.\\n\\n10. Lastly, the field of astrophysics studies the physical properties of celestial objects. It has contributed to important discoveries like the age of the universe, the Big Bang Theory, and the existence of exoplanets.\\n\\nThat\\'s quite a bit to digest, but physics is a vast field with many fascinating and often counter-intuitive ideas. Let me know if you\\'d like more information on any specific topic!'"
      ]
     },
     "execution_count": 39,
     "metadata": {},
     "output_type": "execute_result"
    }
   ],
   "source": [
    "conversation.predict(input=\"tell me about physics facts\")"
   ]
  },
  {
   "cell_type": "code",
   "execution_count": null,
   "id": "54c98f4f-e60c-4ae2-81c9-2f7c91b95fb8",
   "metadata": {},
   "outputs": [],
   "source": []
  }
 ],
 "metadata": {
  "kernelspec": {
   "display_name": "Python 3 (ipykernel)",
   "language": "python",
   "name": "python3"
  },
  "language_info": {
   "codemirror_mode": {
    "name": "ipython",
    "version": 3
   },
   "file_extension": ".py",
   "mimetype": "text/x-python",
   "name": "python",
   "nbconvert_exporter": "python",
   "pygments_lexer": "ipython3",
   "version": "3.10.13"
  }
 },
 "nbformat": 4,
 "nbformat_minor": 5
}
